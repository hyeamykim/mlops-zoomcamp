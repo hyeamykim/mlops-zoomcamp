{
 "cells": [
  {
   "cell_type": "markdown",
   "id": "b845e4d8-5561-4d59-b682-5ea51a5a1845",
   "metadata": {},
   "source": [
    "# MLFlow's Model Registry"
   ]
  },
  {
   "cell_type": "code",
   "execution_count": 1,
   "id": "ab2711ab-55b9-42ef-abbf-2e33f97b00b5",
   "metadata": {},
   "outputs": [],
   "source": [
    "from mlflow.tracking import MlflowClient\n",
    "\n",
    "MLFLOW_TRACKING_URI = \"sqlite:///mlflow.db\""
   ]
  },
  {
   "cell_type": "markdown",
   "id": "18b35985-4ba4-4aa0-a0df-1f5c65f63d83",
   "metadata": {},
   "source": [
    "## Interacting with the MLflow tracking server\n",
    "\n",
    "The <code>MLflowClient</code> object allows us to interact with\n",
    "- an MLflow Tracking Server that creates and manages experiments and runs.\n",
    "- an MLflow Registry Server that creates and manages registered models and model versions.\n",
    "\n",
    "To instantiate it we need to pass a tracking URI and/or a registry URI"
   ]
  },
  {
   "cell_type": "code",
   "execution_count": 2,
   "id": "c896f550-1043-4453-be0d-516426c82e11",
   "metadata": {},
   "outputs": [
    {
     "data": {
      "text/plain": [
       "[<Experiment: artifact_location='/workspaces/mlops-zoomcamp/02-experiment-tracking/mlruns/1', creation_time=1721811618075, experiment_id='1', last_update_time=1721811618075, lifecycle_stage='active', name='nyc-taxi-experiment', tags={}>,\n",
       " <Experiment: artifact_location='mlflow-artifacts:/0', creation_time=1721811523739, experiment_id='0', last_update_time=1721811523739, lifecycle_stage='active', name='Default', tags={}>]"
      ]
     },
     "execution_count": 2,
     "metadata": {},
     "output_type": "execute_result"
    }
   ],
   "source": [
    "client = MlflowClient(tracking_uri=MLFLOW_TRACKING_URI)\n",
    "\n",
    "client.search_experiments() # client.list_experiments() deprecated in MLflow 2.14.3"
   ]
  },
  {
   "cell_type": "code",
   "execution_count": null,
   "id": "873e3030-e36e-48ac-bbfe-e4c30a1667bf",
   "metadata": {},
   "outputs": [],
   "source": [
    "client.create_experiment(name=\"my-cool-experiment\")"
   ]
  },
  {
   "cell_type": "code",
   "execution_count": 8,
   "id": "760f6330-8abe-4be4-a915-6b2deddf9674",
   "metadata": {},
   "outputs": [],
   "source": [
    "from mlflow.entities import ViewType\n",
    "\n",
    "runs = client.search_runs(\n",
    "    experiment_ids='1',\n",
    "    filter_string=\"metrics.rmse < 5.5\",\n",
    "    run_view_type=ViewType.ACTIVE_ONLY,\n",
    "    max_results=5,\n",
    "    order_by=[\"metrics.rmse ASC\"]\n",
    ")"
   ]
  },
  {
   "cell_type": "code",
   "execution_count": 9,
   "id": "09824303-6cb1-4ccd-bd61-7c98af1341bd",
   "metadata": {},
   "outputs": [
    {
     "name": "stdout",
     "output_type": "stream",
     "text": [
      "run id: b94c80e5f64940e6b8ef824165cfa8ad, rmse: 5.2010\n",
      "run id: 71b51db6d6494e61b544a684c3da93d6, rmse: 5.2093\n",
      "run id: ddd8af4b56cb4df8ba669e4c6f022b32, rmse: 5.2093\n",
      "run id: 14184b2c9f00424f8e0d3e3dd5699cf9, rmse: 5.2107\n",
      "run id: 1adc8805b550418aadb95d52bd7fcb5c, rmse: 5.2184\n"
     ]
    }
   ],
   "source": [
    "for run in runs:\n",
    "    print(f\"run id: {run.info.run_id}, rmse: {run.data.metrics['rmse']:.4f}\")"
   ]
  },
  {
   "cell_type": "markdown",
   "id": "93608f42-299f-4c93-ad7f-fad677af3c87",
   "metadata": {},
   "source": [
    "## Interacting with the Model Registry\n",
    "In this section We will use the <code>MlflowClient</code> instance to:\n",
    "\n",
    "1. Register a new version for the experiment <code>nyc-taxi-regressor</code>\n",
    "2. Retrieve the latests versions of the model <code>nyc-taxi-regressor</code>.\n",
    "3. Transition the version <code>1</code> and <code>2</code> to \"Staging\" and adding annotations to it."
   ]
  },
  {
   "cell_type": "code",
   "execution_count": 5,
   "id": "731df966-7823-4154-a262-941a68cca78d",
   "metadata": {},
   "outputs": [],
   "source": [
    "import mlflow\n",
    "\n",
    "mlflow.set_tracking_uri(MLFLOW_TRACKING_URI)"
   ]
  },
  {
   "cell_type": "code",
   "execution_count": 6,
   "id": "22700f27-20de-4050-a1c2-18c0a3be73ba",
   "metadata": {},
   "outputs": [
    {
     "name": "stderr",
     "output_type": "stream",
     "text": [
      "Successfully registered model 'nyc-taxi-regressor'.\n",
      "Created version '1' of model 'nyc-taxi-regressor'.\n"
     ]
    },
    {
     "data": {
      "text/plain": [
       "<ModelVersion: aliases=[], creation_timestamp=1721828073317, current_stage='None', description=None, last_updated_timestamp=1721828073317, name='nyc-taxi-regressor', run_id='71b51db6d6494e61b544a684c3da93d6', run_link=None, source='/workspaces/mlops-zoomcamp/02-experiment-tracking/mlruns/1/71b51db6d6494e61b544a684c3da93d6/artifacts/models_mlflow', status='READY', status_message=None, tags={}, user_id=None, version=1>"
      ]
     },
     "execution_count": 6,
     "metadata": {},
     "output_type": "execute_result"
    }
   ],
   "source": [
    "run_id = \"71b51db6d6494e61b544a684c3da93d6\"\n",
    "model_uri = f\"runs:/{run_id}/models_mlflow\"\n",
    "mlflow.register_model(model_uri=model_uri, name=\"nyc-taxi-regressor\")"
   ]
  },
  {
   "cell_type": "code",
   "execution_count": 10,
   "id": "267b9bd5-6599-4ae9-9d03-039e6ea4627f",
   "metadata": {},
   "outputs": [
    {
     "name": "stderr",
     "output_type": "stream",
     "text": [
      "Registered model 'nyc-taxi-regressor' already exists. Creating a new version of this model...\n",
      "Created version '2' of model 'nyc-taxi-regressor'.\n"
     ]
    },
    {
     "data": {
      "text/plain": [
       "<ModelVersion: aliases=[], creation_timestamp=1721830589709, current_stage='None', description=None, last_updated_timestamp=1721830589709, name='nyc-taxi-regressor', run_id='b94c80e5f64940e6b8ef824165cfa8ad', run_link=None, source='/workspaces/mlops-zoomcamp/02-experiment-tracking/mlruns/1/b94c80e5f64940e6b8ef824165cfa8ad/artifacts/models_mlflow', status='READY', status_message=None, tags={}, user_id=None, version=2>"
      ]
     },
     "execution_count": 10,
     "metadata": {},
     "output_type": "execute_result"
    }
   ],
   "source": [
    "run_id = \"b94c80e5f64940e6b8ef824165cfa8ad\"\n",
    "model_uri = f\"runs:/{run_id}/models_mlflow\"\n",
    "mlflow.register_model(model_uri=model_uri, name=\"nyc-taxi-regressor\")"
   ]
  },
  {
   "cell_type": "code",
   "execution_count": 11,
   "id": "78dec818-3469-45e4-9d7b-751bc02e7ff4",
   "metadata": {},
   "outputs": [
    {
     "name": "stdout",
     "output_type": "stream",
     "text": [
      "version: 2, stage: None\n"
     ]
    },
    {
     "name": "stderr",
     "output_type": "stream",
     "text": [
      "/tmp/ipykernel_4320/669935608.py:2: FutureWarning: ``mlflow.tracking.client.MlflowClient.get_latest_versions`` is deprecated since 2.9.0. Model registry stages will be removed in a future major release. To learn more about the deprecation of model registry stages, see our migration guide here: https://mlflow.org/docs/latest/model-registry.html#migrating-from-stages\n",
      "  latest_versions = client.get_latest_versions(name=model_name)\n"
     ]
    }
   ],
   "source": [
    "model_name = \"nyc-taxi-regressor\"\n",
    "latest_versions = client.get_latest_versions(name=model_name)\n",
    "\n",
    "for version in latest_versions:\n",
    "    print(f\"version: {version.version}, stage: {version.current_stage}\")"
   ]
  },
  {
   "cell_type": "code",
   "execution_count": 12,
   "id": "aea40047-fc03-4eb0-8092-4359802f5831",
   "metadata": {},
   "outputs": [
    {
     "name": "stderr",
     "output_type": "stream",
     "text": [
      "/tmp/ipykernel_4320/1600074043.py:3: FutureWarning: ``mlflow.tracking.client.MlflowClient.transition_model_version_stage`` is deprecated since 2.9.0. Model registry stages will be removed in a future major release. To learn more about the deprecation of model registry stages, see our migration guide here: https://mlflow.org/docs/latest/model-registry.html#migrating-from-stages\n",
      "  client.transition_model_version_stage(\n"
     ]
    },
    {
     "data": {
      "text/plain": [
       "<ModelVersion: aliases=[], creation_timestamp=1721828073317, current_stage='Staging', description=None, last_updated_timestamp=1721830614074, name='nyc-taxi-regressor', run_id='71b51db6d6494e61b544a684c3da93d6', run_link=None, source='/workspaces/mlops-zoomcamp/02-experiment-tracking/mlruns/1/71b51db6d6494e61b544a684c3da93d6/artifacts/models_mlflow', status='READY', status_message=None, tags={}, user_id=None, version=1>"
      ]
     },
     "execution_count": 12,
     "metadata": {},
     "output_type": "execute_result"
    }
   ],
   "source": [
    "model_version = 1\n",
    "new_stage = \"Staging\"\n",
    "client.transition_model_version_stage(\n",
    "    name=model_name,\n",
    "    version=model_version,\n",
    "    stage=new_stage,\n",
    "    archive_existing_versions=False\n",
    ")"
   ]
  },
  {
   "cell_type": "code",
   "execution_count": 13,
   "id": "488e76ac-b3c7-477a-82dc-bf4c69832e4e",
   "metadata": {},
   "outputs": [
    {
     "name": "stderr",
     "output_type": "stream",
     "text": [
      "/tmp/ipykernel_4320/4090915774.py:3: FutureWarning: ``mlflow.tracking.client.MlflowClient.transition_model_version_stage`` is deprecated since 2.9.0. Model registry stages will be removed in a future major release. To learn more about the deprecation of model registry stages, see our migration guide here: https://mlflow.org/docs/latest/model-registry.html#migrating-from-stages\n",
      "  client.transition_model_version_stage(\n"
     ]
    },
    {
     "data": {
      "text/plain": [
       "<ModelVersion: aliases=[], creation_timestamp=1721830589709, current_stage='Staging', description=None, last_updated_timestamp=1721830618908, name='nyc-taxi-regressor', run_id='b94c80e5f64940e6b8ef824165cfa8ad', run_link=None, source='/workspaces/mlops-zoomcamp/02-experiment-tracking/mlruns/1/b94c80e5f64940e6b8ef824165cfa8ad/artifacts/models_mlflow', status='READY', status_message=None, tags={}, user_id=None, version=2>"
      ]
     },
     "execution_count": 13,
     "metadata": {},
     "output_type": "execute_result"
    }
   ],
   "source": [
    "model_version = 2\n",
    "new_stage = \"Staging\"\n",
    "client.transition_model_version_stage(\n",
    "    name=model_name,\n",
    "    version=model_version,\n",
    "    stage=new_stage,\n",
    "    archive_existing_versions=False\n",
    ")"
   ]
  },
  {
   "cell_type": "code",
   "execution_count": 14,
   "id": "00c03fdc-0ea2-4a31-b076-6393b9950f1e",
   "metadata": {},
   "outputs": [
    {
     "data": {
      "text/plain": [
       "<ModelVersion: aliases=[], creation_timestamp=1721830589709, current_stage='Staging', description='The model version 2 was transitioned to Staging on 2024-07-24', last_updated_timestamp=1721830626643, name='nyc-taxi-regressor', run_id='b94c80e5f64940e6b8ef824165cfa8ad', run_link=None, source='/workspaces/mlops-zoomcamp/02-experiment-tracking/mlruns/1/b94c80e5f64940e6b8ef824165cfa8ad/artifacts/models_mlflow', status='READY', status_message=None, tags={}, user_id=None, version=2>"
      ]
     },
     "execution_count": 14,
     "metadata": {},
     "output_type": "execute_result"
    }
   ],
   "source": [
    "from datetime import datetime\n",
    "\n",
    "date = datetime.today().date()\n",
    "client.update_model_version(\n",
    "    name=model_name,\n",
    "    version=model_version,\n",
    "    description=f\"The model version {model_version} was transitioned to {new_stage} on {date}\"\n",
    ")"
   ]
  },
  {
   "cell_type": "code",
   "execution_count": 26,
   "id": "c433b4a7-286e-42d7-94fa-85c886524e18",
   "metadata": {},
   "outputs": [
    {
     "name": "stdout",
     "output_type": "stream",
     "text": [
      "version: 2, stage: Staging\n"
     ]
    },
    {
     "name": "stderr",
     "output_type": "stream",
     "text": [
      "/tmp/ipykernel_4320/669935608.py:2: FutureWarning: ``mlflow.tracking.client.MlflowClient.get_latest_versions`` is deprecated since 2.9.0. Model registry stages will be removed in a future major release. To learn more about the deprecation of model registry stages, see our migration guide here: https://mlflow.org/docs/latest/model-registry.html#migrating-from-stages\n",
      "  latest_versions = client.get_latest_versions(name=model_name)\n"
     ]
    }
   ],
   "source": [
    "model_name = \"nyc-taxi-regressor\"\n",
    "latest_versions = client.get_latest_versions(name=model_name)\n",
    "\n",
    "for version in latest_versions:\n",
    "    print(f\"version: {version.version}, stage: {version.current_stage}\")"
   ]
  },
  {
   "cell_type": "code",
   "execution_count": 27,
   "id": "0bd5a78a-bf6d-4381-bf3a-7749bd5ed8d2",
   "metadata": {},
   "outputs": [
    {
     "name": "stderr",
     "output_type": "stream",
     "text": [
      "/tmp/ipykernel_4320/3059153048.py:3: FutureWarning: ``mlflow.tracking.client.MlflowClient.transition_model_version_stage`` is deprecated since 2.9.0. Model registry stages will be removed in a future major release. To learn more about the deprecation of model registry stages, see our migration guide here: https://mlflow.org/docs/latest/model-registry.html#migrating-from-stages\n",
      "  client.transition_model_version_stage(\n"
     ]
    },
    {
     "data": {
      "text/plain": [
       "<ModelVersion: aliases=[], creation_timestamp=1721830589709, current_stage='Production', description='The model version 2 was transitioned to Staging on 2024-07-24', last_updated_timestamp=1721831790463, name='nyc-taxi-regressor', run_id='b94c80e5f64940e6b8ef824165cfa8ad', run_link=None, source='/workspaces/mlops-zoomcamp/02-experiment-tracking/mlruns/1/b94c80e5f64940e6b8ef824165cfa8ad/artifacts/models_mlflow', status='READY', status_message=None, tags={}, user_id=None, version=2>"
      ]
     },
     "execution_count": 27,
     "metadata": {},
     "output_type": "execute_result"
    }
   ],
   "source": [
    "model_version = 2\n",
    "new_stage = \"Production\"\n",
    "client.transition_model_version_stage(\n",
    "    name=model_name,\n",
    "    version=model_version,\n",
    "    stage=new_stage,\n",
    "    archive_existing_versions=False\n",
    ")"
   ]
  },
  {
   "cell_type": "code",
   "execution_count": 28,
   "id": "7994a9a5-b86d-4672-bd6e-0531b519e9da",
   "metadata": {},
   "outputs": [
    {
     "data": {
      "text/plain": [
       "<ModelVersion: aliases=[], creation_timestamp=1721830589709, current_stage='Production', description='The model version 2 was transitioned to Production on 2024-07-24', last_updated_timestamp=1721831815338, name='nyc-taxi-regressor', run_id='b94c80e5f64940e6b8ef824165cfa8ad', run_link=None, source='/workspaces/mlops-zoomcamp/02-experiment-tracking/mlruns/1/b94c80e5f64940e6b8ef824165cfa8ad/artifacts/models_mlflow', status='READY', status_message=None, tags={}, user_id=None, version=2>"
      ]
     },
     "execution_count": 28,
     "metadata": {},
     "output_type": "execute_result"
    }
   ],
   "source": [
    "from datetime import datetime\n",
    "\n",
    "date = datetime.today().date()\n",
    "client.update_model_version(\n",
    "    name=model_name,\n",
    "    version=model_version,\n",
    "    description=f\"The model version {model_version} was transitioned to {new_stage} on {date}\"\n",
    ")"
   ]
  },
  {
   "cell_type": "code",
   "execution_count": null,
   "id": "ee5a60a6-835a-417c-a72c-f250e6878bc9",
   "metadata": {},
   "outputs": [],
   "source": [
    "client.create_registered_model(\"sk-learn-random-forest-reg-model\")\n",
    "result = client.create_model_version(\n",
    "    name=\"sk-learn-random-forest-reg-model\",\n",
    "    source=\"mlruns/0/d16076a3ec534311817565e6527539c0/artifacts/sklearn-model\",\n",
    "    run_id=\"d16076a3ec534311817565e6527539c0\",\n",
    ")"
   ]
  },
  {
   "cell_type": "code",
   "execution_count": 31,
   "id": "ab247d2c-72c3-4e57-bb27-b9a396cb62f6",
   "metadata": {},
   "outputs": [],
   "source": [
    "client.create_registered_model(\"nyc-taxi-regressor-staging\")\n",
    "result = client.create_model_version(\n",
    "    name=\"nyc-taxi-regressor-staging\",\n",
    "    source=\"mlruns/1/71b51db6d6494e61b544a684c3da93d6/artifacts/models_mlflow\",\n",
    "    run_id=\"71b51db6d6494e61b544a684c3da93d6\",\n",
    ")"
   ]
  },
  {
   "cell_type": "code",
   "execution_count": 32,
   "id": "94a037b5-19ec-46e8-b2a2-7560fb3ca224",
   "metadata": {},
   "outputs": [],
   "source": [
    "client.set_registered_model_tag(\"nyc-taxi-regressor-staging\", \"task\", \"regression\")"
   ]
  },
  {
   "cell_type": "code",
   "execution_count": 33,
   "id": "62d92a4b-7632-4a75-b6cc-4ac9233bb051",
   "metadata": {},
   "outputs": [],
   "source": [
    "client.set_registered_model_alias(\"nyc-taxi-regressor-staging\", \"champion\", 1)"
   ]
  },
  {
   "cell_type": "code",
   "execution_count": 37,
   "id": "7a55bf63-7902-4fc6-af5b-99aac9c96481",
   "metadata": {},
   "outputs": [],
   "source": [
    "client.delete_model_version(name=\"nyc-taxi-regressor-staging\", version=2)"
   ]
  },
  {
   "cell_type": "code",
   "execution_count": 38,
   "id": "70464a27-6781-4c7e-b876-de23df97fb16",
   "metadata": {},
   "outputs": [],
   "source": [
    "client.create_registered_model(\"nyc-taxi-regressor-prod\")\n",
    "result = client.create_model_version(\n",
    "    name=\"nyc-taxi-regressor-prod\",\n",
    "    source=\"mlruns/1/b94c80e5f64940e6b8ef824165cfa8ad/artifacts/models_mlflow\",\n",
    "    run_id=\"b94c80e5f64940e6b8ef824165cfa8ad\",\n",
    ")"
   ]
  },
  {
   "cell_type": "code",
   "execution_count": null,
   "id": "02c6a1f3-816c-4160-85f9-f97f02097d3a",
   "metadata": {},
   "outputs": [],
   "source": [
    "client.set_registered_model_tag(\"nyc-taxi-regressor-prod\", \"task\", \"regression\")"
   ]
  },
  {
   "cell_type": "code",
   "execution_count": null,
   "id": "133462e3-8082-4957-aa62-e23c722b1511",
   "metadata": {},
   "outputs": [],
   "source": [
    "client.set_registered_model_alias(\"nyc-taxi-regressor-prod\", \"champion\", 1)"
   ]
  },
  {
   "cell_type": "markdown",
   "id": "90ffe6f7-33dc-4e97-9831-f1ddbe93b007",
   "metadata": {},
   "source": [
    "## Comparing versions and selecting the new \"Production\" model\n",
    "In the last section, we will retrieve models registered in the model registry and compare their performance on an unseen test set. The idea is to simulate the scenario in which a deployment engineer has to interact with the model registry to decide whether to update the model version that is in production or not.\n",
    "\n",
    "These are the steps:\n",
    "\n",
    "1. Load the test dataset, which corresponds to the NYC Green Taxi data from the month of March 2021.\n",
    "2. Download the DictVectorizer that was fitted using the training data and saved to MLflow as an artifact, and load it with pickle.\n",
    "3. Preprocess the test set using the DictVectorizer so we can properly feed the regressors.\n",
    "4. Make predictions on the test set using the model versions that are currently in the \"Staging\" and \"Production\" stages, and compare their performance.\n",
    "5. Based on the results, update the \"Production\" model version accordingly.\n",
    "   \n",
    "**Note: the model registry doesn't actually deploy the model to production when you transition a model to the \"Production\" stage, it just assign a label to that model version. You should complement the registry with some CI/CD code that does the actual deployment.**"
   ]
  },
  {
   "cell_type": "code",
   "execution_count": 20,
   "id": "b6d4d50e-fc39-48f8-af62-c0c3a12c6af3",
   "metadata": {},
   "outputs": [],
   "source": [
    "from sklearn.metrics import mean_squared_error\n",
    "import pandas as pd\n",
    "\n",
    "\n",
    "def read_dataframe(filename):\n",
    "    df = pd.read_parquet(filename)\n",
    "\n",
    "    df.tpep_dropoff_datetime = pd.to_datetime(df.tpep_dropoff_datetime)\n",
    "    df.tpep_pickup_datetime = pd.to_datetime(df.tpep_pickup_datetime)\n",
    "\n",
    "    df['duration'] = df.tpep_dropoff_datetime - df.tpep_pickup_datetime\n",
    "    df.duration = df.duration.apply(lambda td: td.total_seconds() / 60)\n",
    "\n",
    "    df = df[(df.duration >= 1) & (df.duration <= 60)]\n",
    "\n",
    "    categorical = ['PULocationID', 'DOLocationID']\n",
    "    df[categorical] = df[categorical].astype(str)\n",
    "    \n",
    "    return df\n",
    "\n",
    "\n",
    "def preprocess(df, dv):\n",
    "    categorical = ['PULocationID', 'DOLocationID']\n",
    "    train_dicts = df[categorical].to_dict(orient='records')\n",
    "    return dv.transform(train_dicts)\n",
    "\n",
    "\n",
    "def test_model(name, stage, X_test, y_test):\n",
    "    model = mlflow.pyfunc.load_model(f\"models:/{name}/{stage}\")\n",
    "    y_pred = model.predict(X_test)\n",
    "    return {\"rmse\": mean_squared_error(y_test, y_pred, squared=False)}"
   ]
  },
  {
   "cell_type": "code",
   "execution_count": 21,
   "id": "4e264262-7977-47d8-ab8a-9c2a7e9551b8",
   "metadata": {},
   "outputs": [],
   "source": [
    "df = read_dataframe(\"../data/yellow_tripdata_2023-03.parquet\")"
   ]
  },
  {
   "cell_type": "code",
   "execution_count": 22,
   "id": "f9e31710-56a9-4103-85af-9676fc3a18c7",
   "metadata": {},
   "outputs": [
    {
     "data": {
      "application/vnd.jupyter.widget-view+json": {
       "model_id": "c755a2e2f5c742bf8609ec332e24c2ac",
       "version_major": 2,
       "version_minor": 0
      },
      "text/plain": [
       "Downloading artifacts:   0%|          | 0/1 [00:00<?, ?it/s]"
      ]
     },
     "metadata": {},
     "output_type": "display_data"
    },
    {
     "data": {
      "text/plain": [
       "'/workspaces/mlops-zoomcamp/02-experiment-tracking/preprocessor'"
      ]
     },
     "execution_count": 22,
     "metadata": {},
     "output_type": "execute_result"
    }
   ],
   "source": [
    "client.download_artifacts(run_id=run_id, path='preprocessor', dst_path='.')"
   ]
  },
  {
   "cell_type": "code",
   "execution_count": 23,
   "id": "05fdae07-84a0-4af6-80bf-64b4266562c2",
   "metadata": {},
   "outputs": [],
   "source": [
    "import pickle\n",
    "\n",
    "with open(\"preprocessor/preprocessor.b\", \"rb\") as f_in:\n",
    "    dv = pickle.load(f_in)"
   ]
  },
  {
   "cell_type": "code",
   "execution_count": 24,
   "id": "9f94a628-0f2c-4a32-855e-fdebcbcb3644",
   "metadata": {},
   "outputs": [],
   "source": [
    "X_test = preprocess(df, dv)"
   ]
  },
  {
   "cell_type": "code",
   "execution_count": 25,
   "id": "7185ecb9-5de7-4777-8687-cdc8b754195a",
   "metadata": {},
   "outputs": [],
   "source": [
    "target = \"duration\"\n",
    "y_test = df[target].values"
   ]
  },
  {
   "cell_type": "code",
   "execution_count": null,
   "id": "bba53e2c-40fb-4e0e-9272-44afa465e303",
   "metadata": {},
   "outputs": [],
   "source": []
  },
  {
   "cell_type": "code",
   "execution_count": 29,
   "id": "86ea2555-a01e-4c83-8d8d-1beb87c03766",
   "metadata": {},
   "outputs": [
    {
     "name": "stderr",
     "output_type": "stream",
     "text": [
      "/home/codespace/anaconda3/envs/exp-tracking-env/lib/python3.9/site-packages/mlflow/store/artifact/utils/models.py:32: FutureWarning: ``mlflow.tracking.client.MlflowClient.get_latest_versions`` is deprecated since 2.9.0. Model registry stages will be removed in a future major release. To learn more about the deprecation of model registry stages, see our migration guide here: https://mlflow.org/docs/latest/model-registry.html#migrating-from-stages\n",
      "  latest = client.get_latest_versions(name, None if stage is None else [stage])\n"
     ]
    },
    {
     "name": "stdout",
     "output_type": "stream",
     "text": [
      "CPU times: user 6min 39s, sys: 514 ms, total: 6min 40s\n",
      "Wall time: 3min 35s\n"
     ]
    },
    {
     "name": "stderr",
     "output_type": "stream",
     "text": [
      "/home/codespace/anaconda3/envs/exp-tracking-env/lib/python3.9/site-packages/sklearn/metrics/_regression.py:483: FutureWarning: 'squared' is deprecated in version 1.4 and will be removed in 1.6. To calculate the root mean squared error, use the function'root_mean_squared_error'.\n",
      "  warnings.warn(\n"
     ]
    },
    {
     "data": {
      "text/plain": [
       "{'rmse': 5.668900352214225}"
      ]
     },
     "execution_count": 29,
     "metadata": {},
     "output_type": "execute_result"
    }
   ],
   "source": [
    "%time test_model(name=model_name, stage=\"Production\", X_test=X_test, y_test=y_test)"
   ]
  },
  {
   "cell_type": "code",
   "execution_count": 30,
   "id": "86618422-12c2-4f8b-9dd2-b1b97c8e21b6",
   "metadata": {},
   "outputs": [
    {
     "name": "stderr",
     "output_type": "stream",
     "text": [
      "/home/codespace/anaconda3/envs/exp-tracking-env/lib/python3.9/site-packages/mlflow/store/artifact/utils/models.py:32: FutureWarning: ``mlflow.tracking.client.MlflowClient.get_latest_versions`` is deprecated since 2.9.0. Model registry stages will be removed in a future major release. To learn more about the deprecation of model registry stages, see our migration guide here: https://mlflow.org/docs/latest/model-registry.html#migrating-from-stages\n",
      "  latest = client.get_latest_versions(name, None if stage is None else [stage])\n"
     ]
    },
    {
     "name": "stdout",
     "output_type": "stream",
     "text": [
      "CPU times: user 2min 1s, sys: 125 ms, total: 2min 1s\n",
      "Wall time: 1min 4s\n"
     ]
    },
    {
     "name": "stderr",
     "output_type": "stream",
     "text": [
      "/home/codespace/anaconda3/envs/exp-tracking-env/lib/python3.9/site-packages/sklearn/metrics/_regression.py:483: FutureWarning: 'squared' is deprecated in version 1.4 and will be removed in 1.6. To calculate the root mean squared error, use the function'root_mean_squared_error'.\n",
      "  warnings.warn(\n"
     ]
    },
    {
     "data": {
      "text/plain": [
       "{'rmse': 5.67962618493662}"
      ]
     },
     "execution_count": 30,
     "metadata": {},
     "output_type": "execute_result"
    }
   ],
   "source": [
    "%time test_model(name=model_name, stage=\"Staging\", X_test=X_test, y_test=y_test)"
   ]
  },
  {
   "cell_type": "code",
   "execution_count": null,
   "id": "457f8a79-735c-41e9-86c3-280f77afb2db",
   "metadata": {},
   "outputs": [],
   "source": [
    "client.transition_model_version_stage(\n",
    "    name=model_name,\n",
    "    version=2,\n",
    "    stage=\"Production\",\n",
    "    archive_existing_versions=True\n",
    ")"
   ]
  },
  {
   "cell_type": "code",
   "execution_count": 45,
   "id": "f42d2742-1d6f-488a-9c0d-7c1ad7a54bc4",
   "metadata": {},
   "outputs": [],
   "source": [
    "import mlflow.pyfunc\n",
    "\n",
    "model_name = \"nyc-taxi-regressor-staging\"\n",
    "alias = \"champion\"\n",
    "\n",
    "champion_version = mlflow.xgboost.load_model(f\"models:/{model_name}@{alias}\")"
   ]
  },
  {
   "cell_type": "code",
   "execution_count": 46,
   "id": "3eb15889-d141-4eb8-9adc-23106ceb4f10",
   "metadata": {},
   "outputs": [
    {
     "data": {
      "text/plain": [
       "<xgboost.core.Booster at 0x78be975b2e80>"
      ]
     },
     "execution_count": 46,
     "metadata": {},
     "output_type": "execute_result"
    }
   ],
   "source": [
    "champion_version"
   ]
  },
  {
   "cell_type": "code",
   "execution_count": 43,
   "id": "ebaab309-2e03-4983-b72d-9d75059b3600",
   "metadata": {},
   "outputs": [],
   "source": [
    "import xgboost as xgb\n",
    "\n",
    "xgb_test = xgb.DMatrix(X_test, label=y_test)"
   ]
  },
  {
   "cell_type": "code",
   "execution_count": 47,
   "id": "7b2ce4a4-c702-4737-811d-81b4db6c1f16",
   "metadata": {},
   "outputs": [
    {
     "name": "stderr",
     "output_type": "stream",
     "text": [
      "/home/codespace/anaconda3/envs/exp-tracking-env/lib/python3.9/site-packages/sklearn/metrics/_regression.py:483: FutureWarning: 'squared' is deprecated in version 1.4 and will be removed in 1.6. To calculate the root mean squared error, use the function'root_mean_squared_error'.\n",
      "  warnings.warn(\n"
     ]
    },
    {
     "data": {
      "text/plain": [
       "5.67962618493662"
      ]
     },
     "execution_count": 47,
     "metadata": {},
     "output_type": "execute_result"
    }
   ],
   "source": [
    "y_pred = champion_version.predict(xgb_test)\n",
    "mean_squared_error(y_test, y_pred, squared=False)"
   ]
  },
  {
   "cell_type": "code",
   "execution_count": null,
   "id": "a084b744-c19b-4130-8a14-4fb70d2e30bf",
   "metadata": {},
   "outputs": [],
   "source": []
  }
 ],
 "metadata": {
  "kernelspec": {
   "display_name": "Python 3 (ipykernel)",
   "language": "python",
   "name": "python3"
  },
  "language_info": {
   "codemirror_mode": {
    "name": "ipython",
    "version": 3
   },
   "file_extension": ".py",
   "mimetype": "text/x-python",
   "name": "python",
   "nbconvert_exporter": "python",
   "pygments_lexer": "ipython3",
   "version": "3.9.19"
  }
 },
 "nbformat": 4,
 "nbformat_minor": 5
}
